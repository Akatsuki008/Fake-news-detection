{
  "cells": [
    {
      "cell_type": "markdown",
      "metadata": {
        "id": "muvSIYe0IwJs"
      },
      "source": [
        "# **Classification using Pyspark**"
      ]
    },
    {
      "cell_type": "markdown",
      "metadata": {
        "id": "TnxuridUhAK7"
      },
      "source": [
        "## **Configuration**"
      ]
    },
    {
      "cell_type": "code",
      "execution_count": null,
      "metadata": {
        "id": "GEiJ4B0cElIS"
      },
      "outputs": [],
      "source": [
        "#Installation\n",
        "!apt-get install openjdk-8-jdk-headless -qq > /dev/null\n",
        "!wget -q http://archive.apache.org/dist/spark/spark-3.1.1/spark-3.1.1-bin-hadoop3.2.tgz\n",
        "!tar xf spark-3.1.1-bin-hadoop3.2.tgz\n",
        "!pip install -q findspark\n",
        "\n",
        "import os\n",
        "os.environ[\"JAVA_HOME\"] = \"/usr/lib/jvm/java-8-openjdk-amd64\"\n",
        "os.environ[\"SPARK_HOME\"] = \"/content/spark-3.1.1-bin-hadoop3.2\""
      ]
    },
    {
      "cell_type": "code",
      "execution_count": null,
      "metadata": {
        "id": "notp4ehPEuDM"
      },
      "outputs": [],
      "source": [
        "#spark\n",
        "import findspark\n",
        "findspark.init()"
      ]
    },
    {
      "cell_type": "code",
      "execution_count": null,
      "metadata": {
        "id": "B-MGXtPBEvnq"
      },
      "outputs": [],
      "source": [
        "#Creating Session\n",
        "from pyspark.sql import SparkSession\n",
        "spark = SparkSession.builder.appName(\"Fakenews\").getOrCreate()"
      ]
    },
    {
      "cell_type": "markdown",
      "metadata": {
        "id": "DD5MiBA2g5Lj"
      },
      "source": [
        "## **Data Load and Explore**"
      ]
    },
    {
      "cell_type": "code",
      "execution_count": null,
      "metadata": {
        "id": "Rkc7nfhwHUlm"
      },
      "outputs": [],
      "source": [
        "#import necessary functions\n",
        "from itertools import chain\n",
        "from pyspark.sql.functions import count, mean, when, lit, create_map, regexp_extract"
      ]
    },
    {
      "cell_type": "code",
      "execution_count": null,
      "metadata": {
        "id": "basd8JsTnptu"
      },
      "outputs": [],
      "source": [
        "#Data loading\n",
        "df1 = spark.read.csv('/content/train.csv',\n",
        "                     header=True, inferSchema=True)\n",
        "df2 = spark.read.csv('/content/test.csv',\n",
        "                     header=True, inferSchema=True)"
      ]
    },
    {
      "cell_type": "code",
      "execution_count": null,
      "metadata": {
        "colab": {
          "base_uri": "https://localhost:8080/"
        },
        "id": "ZIp0HArHn4S7",
        "outputId": "43ad2dbf-3d33-4c76-a0f9-9c8d14decd05"
      },
      "outputs": [
        {
          "output_type": "stream",
          "name": "stdout",
          "text": [
            "root\n",
            " |-- Statement: string (nullable = true)\n",
            " |-- Label: string (nullable = true)\n",
            "\n"
          ]
        }
      ],
      "source": [
        "#Printing information about each column\n",
        "df1.printSchema()"
      ]
    },
    {
      "cell_type": "code",
      "execution_count": null,
      "metadata": {
        "id": "_EVgrzbMoA6T",
        "colab": {
          "base_uri": "https://localhost:8080/"
        },
        "outputId": "8e3c985a-63cb-45a6-93d4-19c3605a5f36"
      },
      "outputs": [
        {
          "output_type": "stream",
          "name": "stdout",
          "text": [
            "+--------------------+-----+\n",
            "|           Statement|Label|\n",
            "+--------------------+-----+\n",
            "|Says the Annies L...|FALSE|\n",
            "|When did the decl...| TRUE|\n",
            "|\"Hillary Clinton ...| TRUE|\n",
            "|Health care refor...|FALSE|\n",
            "+--------------------+-----+\n",
            "only showing top 4 rows\n",
            "\n"
          ]
        }
      ],
      "source": [
        "#Showing the dataframe\n",
        "df1.show(4)"
      ]
    },
    {
      "cell_type": "code",
      "execution_count": null,
      "metadata": {
        "id": "fPVt8i_ToWLM",
        "colab": {
          "base_uri": "https://localhost:8080/",
          "height": 424
        },
        "outputId": "d6d5c451-a14e-452d-a96d-ec191a9b8bf5"
      },
      "outputs": [
        {
          "output_type": "execute_result",
          "data": {
            "text/plain": [
              "                                            Statement  Label\n",
              "0   Says the Annies List political group supports ...  FALSE\n",
              "1   When did the decline of coal start? It started...   TRUE\n",
              "2   \"Hillary Clinton agrees with John McCain \"\"by ...   TRUE\n",
              "3   Health care reform legislation is likely to ma...  FALSE\n",
              "4   The economic turnaround started at the end of ...   TRUE\n",
              "..                                                ...    ...\n",
              "95  Says David Jolly supports privatizing Social S...  FALSE\n",
              "96  Did you know US population growth is at its lo...   TRUE\n",
              "97  The average student in Florida, what they actu...   TRUE\n",
              "98  Since 1968, more Americans have died from gunf...   TRUE\n",
              "99  A foreclosure tax that would take effect in 20...   TRUE\n",
              "\n",
              "[100 rows x 2 columns]"
            ],
            "text/html": [
              "\n",
              "  <div id=\"df-1ac23d66-dea2-44c9-b75d-ab56a1e17244\" class=\"colab-df-container\">\n",
              "    <div>\n",
              "<style scoped>\n",
              "    .dataframe tbody tr th:only-of-type {\n",
              "        vertical-align: middle;\n",
              "    }\n",
              "\n",
              "    .dataframe tbody tr th {\n",
              "        vertical-align: top;\n",
              "    }\n",
              "\n",
              "    .dataframe thead th {\n",
              "        text-align: right;\n",
              "    }\n",
              "</style>\n",
              "<table border=\"1\" class=\"dataframe\">\n",
              "  <thead>\n",
              "    <tr style=\"text-align: right;\">\n",
              "      <th></th>\n",
              "      <th>Statement</th>\n",
              "      <th>Label</th>\n",
              "    </tr>\n",
              "  </thead>\n",
              "  <tbody>\n",
              "    <tr>\n",
              "      <th>0</th>\n",
              "      <td>Says the Annies List political group supports ...</td>\n",
              "      <td>FALSE</td>\n",
              "    </tr>\n",
              "    <tr>\n",
              "      <th>1</th>\n",
              "      <td>When did the decline of coal start? It started...</td>\n",
              "      <td>TRUE</td>\n",
              "    </tr>\n",
              "    <tr>\n",
              "      <th>2</th>\n",
              "      <td>\"Hillary Clinton agrees with John McCain \"\"by ...</td>\n",
              "      <td>TRUE</td>\n",
              "    </tr>\n",
              "    <tr>\n",
              "      <th>3</th>\n",
              "      <td>Health care reform legislation is likely to ma...</td>\n",
              "      <td>FALSE</td>\n",
              "    </tr>\n",
              "    <tr>\n",
              "      <th>4</th>\n",
              "      <td>The economic turnaround started at the end of ...</td>\n",
              "      <td>TRUE</td>\n",
              "    </tr>\n",
              "    <tr>\n",
              "      <th>...</th>\n",
              "      <td>...</td>\n",
              "      <td>...</td>\n",
              "    </tr>\n",
              "    <tr>\n",
              "      <th>95</th>\n",
              "      <td>Says David Jolly supports privatizing Social S...</td>\n",
              "      <td>FALSE</td>\n",
              "    </tr>\n",
              "    <tr>\n",
              "      <th>96</th>\n",
              "      <td>Did you know US population growth is at its lo...</td>\n",
              "      <td>TRUE</td>\n",
              "    </tr>\n",
              "    <tr>\n",
              "      <th>97</th>\n",
              "      <td>The average student in Florida, what they actu...</td>\n",
              "      <td>TRUE</td>\n",
              "    </tr>\n",
              "    <tr>\n",
              "      <th>98</th>\n",
              "      <td>Since 1968, more Americans have died from gunf...</td>\n",
              "      <td>TRUE</td>\n",
              "    </tr>\n",
              "    <tr>\n",
              "      <th>99</th>\n",
              "      <td>A foreclosure tax that would take effect in 20...</td>\n",
              "      <td>TRUE</td>\n",
              "    </tr>\n",
              "  </tbody>\n",
              "</table>\n",
              "<p>100 rows × 2 columns</p>\n",
              "</div>\n",
              "    <div class=\"colab-df-buttons\">\n",
              "\n",
              "  <div class=\"colab-df-container\">\n",
              "    <button class=\"colab-df-convert\" onclick=\"convertToInteractive('df-1ac23d66-dea2-44c9-b75d-ab56a1e17244')\"\n",
              "            title=\"Convert this dataframe to an interactive table.\"\n",
              "            style=\"display:none;\">\n",
              "\n",
              "  <svg xmlns=\"http://www.w3.org/2000/svg\" height=\"24px\" viewBox=\"0 -960 960 960\">\n",
              "    <path d=\"M120-120v-720h720v720H120Zm60-500h600v-160H180v160Zm220 220h160v-160H400v160Zm0 220h160v-160H400v160ZM180-400h160v-160H180v160Zm440 0h160v-160H620v160ZM180-180h160v-160H180v160Zm440 0h160v-160H620v160Z\"/>\n",
              "  </svg>\n",
              "    </button>\n",
              "\n",
              "  <style>\n",
              "    .colab-df-container {\n",
              "      display:flex;\n",
              "      gap: 12px;\n",
              "    }\n",
              "\n",
              "    .colab-df-convert {\n",
              "      background-color: #E8F0FE;\n",
              "      border: none;\n",
              "      border-radius: 50%;\n",
              "      cursor: pointer;\n",
              "      display: none;\n",
              "      fill: #1967D2;\n",
              "      height: 32px;\n",
              "      padding: 0 0 0 0;\n",
              "      width: 32px;\n",
              "    }\n",
              "\n",
              "    .colab-df-convert:hover {\n",
              "      background-color: #E2EBFA;\n",
              "      box-shadow: 0px 1px 2px rgba(60, 64, 67, 0.3), 0px 1px 3px 1px rgba(60, 64, 67, 0.15);\n",
              "      fill: #174EA6;\n",
              "    }\n",
              "\n",
              "    .colab-df-buttons div {\n",
              "      margin-bottom: 4px;\n",
              "    }\n",
              "\n",
              "    [theme=dark] .colab-df-convert {\n",
              "      background-color: #3B4455;\n",
              "      fill: #D2E3FC;\n",
              "    }\n",
              "\n",
              "    [theme=dark] .colab-df-convert:hover {\n",
              "      background-color: #434B5C;\n",
              "      box-shadow: 0px 1px 3px 1px rgba(0, 0, 0, 0.15);\n",
              "      filter: drop-shadow(0px 1px 2px rgba(0, 0, 0, 0.3));\n",
              "      fill: #FFFFFF;\n",
              "    }\n",
              "  </style>\n",
              "\n",
              "    <script>\n",
              "      const buttonEl =\n",
              "        document.querySelector('#df-1ac23d66-dea2-44c9-b75d-ab56a1e17244 button.colab-df-convert');\n",
              "      buttonEl.style.display =\n",
              "        google.colab.kernel.accessAllowed ? 'block' : 'none';\n",
              "\n",
              "      async function convertToInteractive(key) {\n",
              "        const element = document.querySelector('#df-1ac23d66-dea2-44c9-b75d-ab56a1e17244');\n",
              "        const dataTable =\n",
              "          await google.colab.kernel.invokeFunction('convertToInteractive',\n",
              "                                                    [key], {});\n",
              "        if (!dataTable) return;\n",
              "\n",
              "        const docLinkHtml = 'Like what you see? Visit the ' +\n",
              "          '<a target=\"_blank\" href=https://colab.research.google.com/notebooks/data_table.ipynb>data table notebook</a>'\n",
              "          + ' to learn more about interactive tables.';\n",
              "        element.innerHTML = '';\n",
              "        dataTable['output_type'] = 'display_data';\n",
              "        await google.colab.output.renderOutput(dataTable, element);\n",
              "        const docLink = document.createElement('div');\n",
              "        docLink.innerHTML = docLinkHtml;\n",
              "        element.appendChild(docLink);\n",
              "      }\n",
              "    </script>\n",
              "  </div>\n",
              "\n",
              "\n",
              "<div id=\"df-c6b050e4-1b0c-4dfb-959b-d66b45aacbb1\">\n",
              "  <button class=\"colab-df-quickchart\" onclick=\"quickchart('df-c6b050e4-1b0c-4dfb-959b-d66b45aacbb1')\"\n",
              "            title=\"Suggest charts\"\n",
              "            style=\"display:none;\">\n",
              "\n",
              "<svg xmlns=\"http://www.w3.org/2000/svg\" height=\"24px\"viewBox=\"0 0 24 24\"\n",
              "     width=\"24px\">\n",
              "    <g>\n",
              "        <path d=\"M19 3H5c-1.1 0-2 .9-2 2v14c0 1.1.9 2 2 2h14c1.1 0 2-.9 2-2V5c0-1.1-.9-2-2-2zM9 17H7v-7h2v7zm4 0h-2V7h2v10zm4 0h-2v-4h2v4z\"/>\n",
              "    </g>\n",
              "</svg>\n",
              "  </button>\n",
              "\n",
              "<style>\n",
              "  .colab-df-quickchart {\n",
              "      --bg-color: #E8F0FE;\n",
              "      --fill-color: #1967D2;\n",
              "      --hover-bg-color: #E2EBFA;\n",
              "      --hover-fill-color: #174EA6;\n",
              "      --disabled-fill-color: #AAA;\n",
              "      --disabled-bg-color: #DDD;\n",
              "  }\n",
              "\n",
              "  [theme=dark] .colab-df-quickchart {\n",
              "      --bg-color: #3B4455;\n",
              "      --fill-color: #D2E3FC;\n",
              "      --hover-bg-color: #434B5C;\n",
              "      --hover-fill-color: #FFFFFF;\n",
              "      --disabled-bg-color: #3B4455;\n",
              "      --disabled-fill-color: #666;\n",
              "  }\n",
              "\n",
              "  .colab-df-quickchart {\n",
              "    background-color: var(--bg-color);\n",
              "    border: none;\n",
              "    border-radius: 50%;\n",
              "    cursor: pointer;\n",
              "    display: none;\n",
              "    fill: var(--fill-color);\n",
              "    height: 32px;\n",
              "    padding: 0;\n",
              "    width: 32px;\n",
              "  }\n",
              "\n",
              "  .colab-df-quickchart:hover {\n",
              "    background-color: var(--hover-bg-color);\n",
              "    box-shadow: 0 1px 2px rgba(60, 64, 67, 0.3), 0 1px 3px 1px rgba(60, 64, 67, 0.15);\n",
              "    fill: var(--button-hover-fill-color);\n",
              "  }\n",
              "\n",
              "  .colab-df-quickchart-complete:disabled,\n",
              "  .colab-df-quickchart-complete:disabled:hover {\n",
              "    background-color: var(--disabled-bg-color);\n",
              "    fill: var(--disabled-fill-color);\n",
              "    box-shadow: none;\n",
              "  }\n",
              "\n",
              "  .colab-df-spinner {\n",
              "    border: 2px solid var(--fill-color);\n",
              "    border-color: transparent;\n",
              "    border-bottom-color: var(--fill-color);\n",
              "    animation:\n",
              "      spin 1s steps(1) infinite;\n",
              "  }\n",
              "\n",
              "  @keyframes spin {\n",
              "    0% {\n",
              "      border-color: transparent;\n",
              "      border-bottom-color: var(--fill-color);\n",
              "      border-left-color: var(--fill-color);\n",
              "    }\n",
              "    20% {\n",
              "      border-color: transparent;\n",
              "      border-left-color: var(--fill-color);\n",
              "      border-top-color: var(--fill-color);\n",
              "    }\n",
              "    30% {\n",
              "      border-color: transparent;\n",
              "      border-left-color: var(--fill-color);\n",
              "      border-top-color: var(--fill-color);\n",
              "      border-right-color: var(--fill-color);\n",
              "    }\n",
              "    40% {\n",
              "      border-color: transparent;\n",
              "      border-right-color: var(--fill-color);\n",
              "      border-top-color: var(--fill-color);\n",
              "    }\n",
              "    60% {\n",
              "      border-color: transparent;\n",
              "      border-right-color: var(--fill-color);\n",
              "    }\n",
              "    80% {\n",
              "      border-color: transparent;\n",
              "      border-right-color: var(--fill-color);\n",
              "      border-bottom-color: var(--fill-color);\n",
              "    }\n",
              "    90% {\n",
              "      border-color: transparent;\n",
              "      border-bottom-color: var(--fill-color);\n",
              "    }\n",
              "  }\n",
              "</style>\n",
              "\n",
              "  <script>\n",
              "    async function quickchart(key) {\n",
              "      const quickchartButtonEl =\n",
              "        document.querySelector('#' + key + ' button');\n",
              "      quickchartButtonEl.disabled = true;  // To prevent multiple clicks.\n",
              "      quickchartButtonEl.classList.add('colab-df-spinner');\n",
              "      try {\n",
              "        const charts = await google.colab.kernel.invokeFunction(\n",
              "            'suggestCharts', [key], {});\n",
              "      } catch (error) {\n",
              "        console.error('Error during call to suggestCharts:', error);\n",
              "      }\n",
              "      quickchartButtonEl.classList.remove('colab-df-spinner');\n",
              "      quickchartButtonEl.classList.add('colab-df-quickchart-complete');\n",
              "    }\n",
              "    (() => {\n",
              "      let quickchartButtonEl =\n",
              "        document.querySelector('#df-c6b050e4-1b0c-4dfb-959b-d66b45aacbb1 button');\n",
              "      quickchartButtonEl.style.display =\n",
              "        google.colab.kernel.accessAllowed ? 'block' : 'none';\n",
              "    })();\n",
              "  </script>\n",
              "</div>\n",
              "    </div>\n",
              "  </div>\n"
            ]
          },
          "metadata": {},
          "execution_count": 183
        }
      ],
      "source": [
        "#Converting dataset into pandas to observe the data in a more formatted way\n",
        "df1.limit(100).toPandas()"
      ]
    },
    {
      "cell_type": "code",
      "execution_count": null,
      "metadata": {
        "id": "EYgllhivbeFw",
        "colab": {
          "base_uri": "https://localhost:8080/"
        },
        "outputId": "520297d8-a770-4419-e097-f06158fee301"
      },
      "outputs": [
        {
          "output_type": "stream",
          "name": "stdout",
          "text": [
            "+-------+--------------------+--------------------+\n",
            "|summary|           Statement|               Label|\n",
            "+-------+--------------------+--------------------+\n",
            "|  count|               10269|               10260|\n",
            "|   mean|                null|               564.5|\n",
            "| stddev|                null|  232.63813101037414|\n",
            "|    min|\"(McCain) says \"\"...| 'The American pe...|\n",
            "|    25%|                null|               400.0|\n",
            "|    50%|                null|               400.0|\n",
            "|    75%|                null|               729.0|\n",
            "|    max|﻿﻿Since Mayor Ken...|transparency\tnews...|\n",
            "+-------+--------------------+--------------------+\n",
            "\n"
          ]
        }
      ],
      "source": [
        "#Summarizing key information of the selected columns (describe() method can also be used)\n",
        "df1.select('Statement', 'Label').summary().show()"
      ]
    },
    {
      "cell_type": "code",
      "execution_count": null,
      "metadata": {
        "id": "ZCqDXteaby_P",
        "colab": {
          "base_uri": "https://localhost:8080/"
        },
        "outputId": "f6c88ee0-1791-41f3-fb73-ee6da38baf62"
      },
      "outputs": [
        {
          "output_type": "stream",
          "name": "stdout",
          "text": [
            "Number of rows: \t 10269\n",
            "Number of columns: \t 2\n"
          ]
        }
      ],
      "source": [
        "#To know the shape of the dataframe\n",
        "print('Number of rows: \\t', df1.count())\n",
        "print('Number of columns: \\t', len(df1.columns))"
      ]
    },
    {
      "cell_type": "markdown",
      "metadata": {
        "id": "IX202TYtdUs6"
      },
      "source": [
        "## **Exploratory Data Analysis**"
      ]
    },
    {
      "cell_type": "code",
      "execution_count": null,
      "metadata": {
        "id": "HjCOjLcjdFvd",
        "colab": {
          "base_uri": "https://localhost:8080/"
        },
        "outputId": "3debdb54-845e-493f-9586-5d280ef30079"
      },
      "outputs": [
        {
          "output_type": "stream",
          "name": "stdout",
          "text": [
            "+--------------------+-----+\n",
            "|               Label|count|\n",
            "+--------------------+-----+\n",
            "| offering basic c...|    1|\n",
            "| against accounta...|    1|\n",
            "|               FALSE| 4449|\n",
            "| we could balance...|    1|\n",
            "|               crime|    1|\n",
            "| the percentage u...|    1|\n",
            "| if that dorm has...|    1|\n",
            "| better airport' ...|    1|\n",
            "| but left it with...|    1|\n",
            "| an award for 'Co...|    1|\n",
            "|            preacher|    1|\n",
            "|poverty\tbernie-s\t...|    1|\n",
            "|\"\" says the solut...|    1|\n",
            "| \"\" \"\"out of context|    1|\n",
            "|             pundits|    1|\n",
            "| which indicates ...|    1|\n",
            "|000 to Al Gore's ...|    1|\n",
            "|             however|    1|\n",
            "|                Ohio|    1|\n",
            "| but the threat t...|    1|\n",
            "+--------------------+-----+\n",
            "only showing top 20 rows\n",
            "\n"
          ]
        }
      ],
      "source": [
        "#Grouping a column based on the type of data present there\n",
        "df1.groupBy('Label').count().show()"
      ]
    },
    {
      "cell_type": "code",
      "execution_count": null,
      "metadata": {
        "id": "leuoo2vYeCSK"
      },
      "outputs": [],
      "source": [
        "#Grouping a column based on categories of data present there (categorial variable)\n",
        "# df1.groupBy('Label').pivot('Label').count().show()"
      ]
    },
    {
      "cell_type": "code",
      "execution_count": null,
      "metadata": {
        "colab": {
          "base_uri": "https://localhost:8080/"
        },
        "id": "6q_eJR6cihT3",
        "outputId": "f5feab9f-641b-4e61-94fc-532b02efdebd"
      },
      "outputs": [
        {
          "output_type": "stream",
          "name": "stdout",
          "text": [
            "Statement       0\n",
            "Label           9\n"
          ]
        }
      ],
      "source": [
        "#Printing number of column values that has null (Train set)\n",
        "for col in df1.columns:\n",
        "    print(col.ljust(15), df1.filter(df1[col].isNull()).count())"
      ]
    },
    {
      "cell_type": "code",
      "execution_count": null,
      "metadata": {
        "colab": {
          "base_uri": "https://localhost:8080/"
        },
        "id": "3vKpdzuuklCz",
        "outputId": "2578cd81-5af0-4282-a3a7-5101fd6f4cf8"
      },
      "outputs": [
        {
          "output_type": "stream",
          "name": "stdout",
          "text": [
            "Statement       0\n",
            "Label           4\n"
          ]
        }
      ],
      "source": [
        "#Printing number of column values that has null (Test set)\n",
        "for col in df2.columns:\n",
        "    print(col.ljust(15), df2.filter(df2[col].isNull()).count())"
      ]
    },
    {
      "cell_type": "code",
      "execution_count": null,
      "metadata": {
        "colab": {
          "base_uri": "https://localhost:8080/"
        },
        "id": "eIR3uW0_jd1V",
        "outputId": "ca781ceb-c380-4f84-ac3c-a6e78ef39680"
      },
      "outputs": [
        {
          "output_type": "stream",
          "name": "stdout",
          "text": [
            "+-------+--------------------+\n",
            "|summary|               Label|\n",
            "+-------+--------------------+\n",
            "|    max|transparency\tnews...|\n",
            "|    50%|               400.0|\n",
            "|   mean|               564.5|\n",
            "+-------+--------------------+\n",
            "\n"
          ]
        }
      ],
      "source": [
        "#As only 2 value missing in embarked column, it can be filled with the most repeated value (one way)\n",
        "df1.select('Label').summary('max', \"50%\", \"mean\").show()"
      ]
    },
    {
      "cell_type": "code",
      "execution_count": null,
      "metadata": {
        "id": "Y2vtUzKPkZnb"
      },
      "outputs": [],
      "source": [
        "#The test dataset has some missing value in fare column\n",
        "df1 = df1.fillna({'Label':'FALSE'})"
      ]
    },
    {
      "cell_type": "code",
      "execution_count": null,
      "metadata": {
        "colab": {
          "base_uri": "https://localhost:8080/"
        },
        "id": "7yV3NPUn8YH6",
        "outputId": "b8f8571a-651b-4fae-aaf2-a74894de0be0"
      },
      "outputs": [
        {
          "output_type": "stream",
          "name": "stdout",
          "text": [
            "Statement       0\n",
            "Label           0\n"
          ]
        }
      ],
      "source": [
        "#Printing number of column values that has null (Train set)\n",
        "for col in df1.columns:\n",
        "    print(col.ljust(15), df1.filter(df1[col].isNull()).count())"
      ]
    },
    {
      "cell_type": "markdown",
      "metadata": {
        "id": "-EY53vrOtGCL"
      },
      "source": [
        "## **Feature Engineering**"
      ]
    },
    {
      "cell_type": "code",
      "execution_count": null,
      "metadata": {
        "id": "NYcv6EhA2Dro"
      },
      "outputs": [],
      "source": [
        "#Dropping unwanted columns\n",
        "df1 = df1.drop('Title')"
      ]
    },
    {
      "cell_type": "code",
      "execution_count": null,
      "metadata": {
        "colab": {
          "base_uri": "https://localhost:8080/"
        },
        "id": "bjYqG1sP2N6q",
        "outputId": "e3b2cf97-1310-43c3-afda-cc2cdcc98937"
      },
      "outputs": [
        {
          "output_type": "stream",
          "name": "stdout",
          "text": [
            "+--------------------+-----+\n",
            "|           Statement|Label|\n",
            "+--------------------+-----+\n",
            "|Says the Annies L...|FALSE|\n",
            "|When did the decl...| TRUE|\n",
            "|\"Hillary Clinton ...| TRUE|\n",
            "|Health care refor...|FALSE|\n",
            "|The economic turn...| TRUE|\n",
            "+--------------------+-----+\n",
            "only showing top 5 rows\n",
            "\n"
          ]
        }
      ],
      "source": [
        "df1.show(5)"
      ]
    },
    {
      "cell_type": "code",
      "execution_count": null,
      "metadata": {
        "id": "n0m-D0KIK6qe"
      },
      "outputs": [],
      "source": []
    },
    {
      "cell_type": "markdown",
      "metadata": {
        "id": "JEVUUbAA_k0L"
      },
      "source": [
        "## **Model Build**"
      ]
    },
    {
      "cell_type": "code",
      "execution_count": null,
      "metadata": {
        "id": "otq0NR0j2V-x"
      },
      "outputs": [],
      "source": [
        "# importing required libraries\n",
        "from pyspark.ml.feature import StringIndexer, VectorAssembler\n",
        "from pyspark.ml.classification import LogisticRegression,\\\n",
        "                    RandomForestClassifier, GBTClassifier\n",
        "from pyspark.ml.evaluation import MulticlassClassificationEvaluator\n",
        "from pyspark.ml import Pipeline\n",
        "from pyspark.ml.tuning import CrossValidator, ParamGridBuilder"
      ]
    },
    {
      "cell_type": "code",
      "execution_count": null,
      "metadata": {
        "colab": {
          "base_uri": "https://localhost:8080/"
        },
        "id": "HiBuU1kWF7wC",
        "outputId": "3246ad31-0998-4e61-8149-3293d27e6fdc"
      },
      "outputs": [
        {
          "output_type": "stream",
          "name": "stderr",
          "text": [
            "[nltk_data] Downloading package stopwords to /root/nltk_data...\n",
            "[nltk_data]   Package stopwords is already up-to-date!\n"
          ]
        },
        {
          "output_type": "stream",
          "name": "stdout",
          "text": [
            "+-----------------------------------------------------------------------------------------------------------+-----+\n",
            "|Statement                                                                                                  |Label|\n",
            "+-----------------------------------------------------------------------------------------------------------+-----+\n",
            "|say anni list polit group support third trimest abort demand                                               |FALSE|\n",
            "|declin coal start start natur ga took start begin presid georg w bush administr                            |TRUE |\n",
            "|hillari clinton agr john mccain vote give georg bush benefit doubt iran                                    |TRUE |\n",
            "|health care reform legisl like mandat free sex chang surgeri                                               |FALSE|\n",
            "|econom turnaround start end term                                                                           |TRUE |\n",
            "|chicago bear start quarterback last year total number tenur uw faculti fire last two decad                 |TRUE |\n",
            "|jim dunnam live district repr year                                                                         |FALSE|\n",
            "|person stage work activ last year pass along russ feingold toughest ethic reform sinc waterg               |TRUE |\n",
            "|howev took million oregon lotteri fund port newport eventu land new noaa marin oper center pacif           |TRUE |\n",
            "|say gop primari oppon glenn grothman joe leibham cast compromi vote cost million higher electr cost        |TRUE |\n",
            "|first time histori share nation popular vote margin smaller latino vote margin                             |TRUE |\n",
            "|sinc nearli million american slip middl class poverti                                                      |TRUE |\n",
            "|mitt romney governor massachusett didnt slow rate growth govern actual cut                                 |FALSE|\n",
            "|economi bled billion due govern shutdown                                                                   |TRUE |\n",
            "|afford care act alreadi sen waiv otherwi suspend                                                           |FALSE|\n",
            "|last elect novemb percent american peopl chose vote percent young peopl percent low incom worker chose vote|TRUE |\n",
            "|mccain oppo requir govern buy american made motorcycl said buy american provi quot disgrac                 |TRUE |\n",
            "|u rep ron kind wi fellow democrat went spend spree credit card max                                         |FALSE|\n",
            "|water rate manila philippin rai percent subsidiari world bank becam partial owner                          |TRUE |\n",
            "|almost peopl left puerto rico last year                                                                    |TRUE |\n",
            "+-----------------------------------------------------------------------------------------------------------+-----+\n",
            "only showing top 20 rows\n",
            "\n"
          ]
        }
      ],
      "source": [
        "from pyspark.sql import SparkSession\n",
        "from pyspark.sql.functions import col, udf\n",
        "from pyspark.sql.types import StringType\n",
        "import re\n",
        "import string\n",
        "from nltk.corpus import stopwords\n",
        "from nltk.stem import PorterStemmer\n",
        "import nltk\n",
        "nltk.download('stopwords')\n",
        "\n",
        "# Initialize PorterStemmer\n",
        "portstem = PorterStemmer()\n",
        "stop_words = set(stopwords.words('english'))\n",
        "\n",
        "# Define the stemming function\n",
        "def stemming(statement):\n",
        "    # Preprocessing steps\n",
        "    statement = re.sub('[^a-zA-Z]', ' ', statement)  # Remove non-alphabetic characters\n",
        "    statement = statement.lower()  # Convert text to lowercase\n",
        "    words = statement.split()  # Tokenize the text\n",
        "\n",
        "    # Apply stemming and remove stopwords\n",
        "    stemmed_words = [portstem.stem(word) for word in words if word not in stop_words]\n",
        "\n",
        "    return ' '.join(stemmed_words)\n",
        "\n",
        "# Convert the stemming function to a UDF\n",
        "stemming_udf = udf(stemming, StringType())\n",
        "\n",
        "# Apply the UDF to the 'Statement' column\n",
        "df1 = df1.withColumn(\"Statement\", stemming_udf(col(\"Statement\")))\n",
        "\n",
        "# Show the updated DataFrame\n",
        "df1.show(truncate=False)\n",
        "\n"
      ]
    },
    {
      "cell_type": "code",
      "execution_count": null,
      "metadata": {
        "id": "6mMsUhh44aRb"
      },
      "outputs": [],
      "source": [
        "#Converting categorical values to integer values (encoding)\n",
        "stringIndexer_statement = StringIndexer(inputCol=\"Statement\", outputCol=\"StatementIndex\", handleInvalid=\"keep\")\n",
        "stringIndexer_label = StringIndexer(inputCol=\"Label\", outputCol=\"LabelIndex\", handleInvalid=\"keep\")\n",
        "\n",
        "# stringIndex_model = stringIndex.fit(df1)\n",
        "\n",
        "# df1_ = stringIndex_model.transform(df1).drop('Statement', 'Label')\n",
        "# df1_.show(4)"
      ]
    },
    {
      "cell_type": "code",
      "source": [
        "from pyspark.ml import Pipeline\n",
        "\n",
        "pipeline = Pipeline(stages=[stringIndexer_statement, stringIndexer_label])\n",
        "\n",
        "# Fit and transform the data using the pipeline\n",
        "df1_transformed = pipeline.fit(df1).transform(df1)\n",
        "\n",
        "# Show the transformed DataFrame\n",
        "df1_transformed.show(truncate=False)"
      ],
      "metadata": {
        "colab": {
          "base_uri": "https://localhost:8080/"
        },
        "id": "d8K3HJAIYV4a",
        "outputId": "6b50f1d6-6af4-4142-8855-46d0158ed47c"
      },
      "execution_count": null,
      "outputs": [
        {
          "output_type": "stream",
          "name": "stdout",
          "text": [
            "+-----------------------------------------------------------------------------------------------------------+-----+--------------+----------+\n",
            "|Statement                                                                                                  |Label|StatementIndex|LabelIndex|\n",
            "+-----------------------------------------------------------------------------------------------------------+-----+--------------+----------+\n",
            "|say anni list polit group support third trimest abort demand                                               |FALSE|6109.0        |1.0       |\n",
            "|declin coal start start natur ga took start begin presid georg w bush administr                            |TRUE |1389.0        |0.0       |\n",
            "|hillari clinton agr john mccain vote give georg bush benefit doubt iran                                    |TRUE |2767.0        |0.0       |\n",
            "|health care reform legisl like mandat free sex chang surgeri                                               |FALSE|2713.0        |1.0       |\n",
            "|econom turnaround start end term                                                                           |TRUE |1638.0        |0.0       |\n",
            "|chicago bear start quarterback last year total number tenur uw faculti fire last two decad                 |TRUE |916.0         |0.0       |\n",
            "|jim dunnam live district repr year                                                                         |FALSE|3135.0        |1.0       |\n",
            "|person stage work activ last year pass along russ feingold toughest ethic reform sinc waterg               |TRUE |5121.0        |0.0       |\n",
            "|howev took million oregon lotteri fund port newport eventu land new noaa marin oper center pacif           |TRUE |2881.0        |0.0       |\n",
            "|say gop primari oppon glenn grothman joe leibham cast compromi vote cost million higher electr cost        |TRUE |6673.0        |0.0       |\n",
            "|first time histori share nation popular vote margin smaller latino vote margin                             |TRUE |2090.0        |0.0       |\n",
            "|sinc nearli million american slip middl class poverti                                                      |TRUE |8628.0        |0.0       |\n",
            "|mitt romney governor massachusett didnt slow rate growth govern actual cut                                 |FALSE|4053.0        |1.0       |\n",
            "|economi bled billion due govern shutdown                                                                   |TRUE |1643.0        |0.0       |\n",
            "|afford care act alreadi sen waiv otherwi suspend                                                           |FALSE|107.0         |1.0       |\n",
            "|last elect novemb percent american peopl chose vote percent young peopl percent low incom worker chose vote|TRUE |3395.0        |0.0       |\n",
            "|mccain oppo requir govern buy american made motorcycl said buy american provi quot disgrac                 |TRUE |3833.0        |0.0       |\n",
            "|u rep ron kind wi fellow democrat went spend spree credit card max                                         |FALSE|9614.0        |1.0       |\n",
            "|water rate manila philippin rai percent subsidiari world bank becam partial owner                          |TRUE |9895.0        |0.0       |\n",
            "|almost peopl left puerto rico last year                                                                    |TRUE |174.0         |0.0       |\n",
            "+-----------------------------------------------------------------------------------------------------------+-----+--------------+----------+\n",
            "only showing top 20 rows\n",
            "\n"
          ]
        }
      ]
    },
    {
      "cell_type": "code",
      "execution_count": null,
      "metadata": {
        "id": "PexOR6R040MK",
        "colab": {
          "base_uri": "https://localhost:8080/"
        },
        "outputId": "37e939e5-99af-4133-c6fc-87cc4f270454"
      },
      "outputs": [
        {
          "output_type": "stream",
          "name": "stdout",
          "text": [
            "+--------+----------+\n",
            "|features|LabelIndex|\n",
            "+--------+----------+\n",
            "|[1.0]   |1.0       |\n",
            "|[0.0]   |0.0       |\n",
            "|[0.0]   |0.0       |\n",
            "|[1.0]   |1.0       |\n",
            "+--------+----------+\n",
            "only showing top 4 rows\n",
            "\n"
          ]
        }
      ],
      "source": [
        "#converitng dataset for model\n",
        "vec_asmbl = VectorAssembler(inputCols=df1_transformed.columns[3:],\n",
        "                           outputCol='features')\n",
        "\n",
        "df1_ = vec_asmbl.transform(df1_transformed).select('features', 'LabelIndex')\n",
        "df1_.show(4, truncate=False)"
      ]
    },
    {
      "cell_type": "code",
      "source": [
        "df1_.show(3)"
      ],
      "metadata": {
        "colab": {
          "base_uri": "https://localhost:8080/"
        },
        "id": "DXAbKYh2DKgQ",
        "outputId": "c459d1fd-28d5-4bc9-dfbe-6b2442ca6075"
      },
      "execution_count": null,
      "outputs": [
        {
          "output_type": "stream",
          "name": "stdout",
          "text": [
            "+--------+----------+\n",
            "|features|LabelIndex|\n",
            "+--------+----------+\n",
            "|   [1.0]|       1.0|\n",
            "|   [0.0]|       0.0|\n",
            "|   [0.0]|       0.0|\n",
            "+--------+----------+\n",
            "only showing top 3 rows\n",
            "\n"
          ]
        }
      ]
    },
    {
      "cell_type": "code",
      "execution_count": null,
      "metadata": {
        "id": "EynoOxdA7gVk"
      },
      "outputs": [],
      "source": [
        "# Creating train and validation set\n",
        "train_df, valid_df = df1_.randomSplit([0.8, 0.2])"
      ]
    },
    {
      "cell_type": "code",
      "execution_count": null,
      "metadata": {
        "id": "-o_wGar_70dU"
      },
      "outputs": [],
      "source": [
        "evaluator = MulticlassClassificationEvaluator(labelCol='LabelIndex',\n",
        "                                          metricName='accuracy')"
      ]
    },
    {
      "cell_type": "code",
      "execution_count": null,
      "metadata": {
        "id": "g0pgV_jN75Uj",
        "colab": {
          "base_uri": "https://localhost:8080/"
        },
        "outputId": "bcdbd1d6-df30-4de7-e54e-6708ecb9c819"
      },
      "outputs": [
        {
          "output_type": "execute_result",
          "data": {
            "text/plain": [
              "0.5612395474667978"
            ]
          },
          "metadata": {},
          "execution_count": 203
        }
      ],
      "source": [
        "#Ridge Regression model\n",
        "ridge = LogisticRegression(labelCol='LabelIndex',\n",
        "                        maxIter=100,\n",
        "                        elasticNetParam=0,\n",
        "                        regParam=0.03)\n",
        "\n",
        "model = ridge.fit(train_df)\n",
        "pred = model.transform(valid_df)\n",
        "evaluator.evaluate(pred)"
      ]
    },
    {
      "cell_type": "code",
      "execution_count": null,
      "metadata": {
        "id": "jSJSy_qY9fYY",
        "colab": {
          "base_uri": "https://localhost:8080/"
        },
        "outputId": "da07ae8f-4bb1-4d2f-8790-b27154d6e9e6"
      },
      "outputs": [
        {
          "output_type": "execute_result",
          "data": {
            "text/plain": [
              "0.9896704377766847"
            ]
          },
          "metadata": {},
          "execution_count": 204
        }
      ],
      "source": [
        "#Lasso Regression model\n",
        "lasso = LogisticRegression(labelCol='LabelIndex',\n",
        "                           maxIter=100,\n",
        "                           elasticNetParam=1,\n",
        "                           regParam=0.0003)\n",
        "\n",
        "model = lasso.fit(train_df)\n",
        "pred = model.transform(valid_df)\n",
        "evaluator.evaluate(pred)"
      ]
    },
    {
      "cell_type": "code",
      "execution_count": null,
      "metadata": {
        "id": "a79TrraA9zff",
        "colab": {
          "base_uri": "https://localhost:8080/"
        },
        "outputId": "671bb96f-5fee-4143-9caf-7101561af9e8"
      },
      "outputs": [
        {
          "output_type": "execute_result",
          "data": {
            "text/plain": [
              "0.9901623216920806"
            ]
          },
          "metadata": {},
          "execution_count": 205
        }
      ],
      "source": [
        "#Random Forest Classifier Model\n",
        "rf = RandomForestClassifier(labelCol='LabelIndex', numTrees=100, maxDepth=3, maxBins=150)\n",
        "model = rf.fit(train_df)\n",
        "pred = model.transform(valid_df)\n",
        "evaluator.evaluate(pred)"
      ]
    },
    {
      "cell_type": "code",
      "execution_count": null,
      "metadata": {
        "id": "Gei6kxSu_Fp1",
        "colab": {
          "base_uri": "https://localhost:8080/"
        },
        "outputId": "74b786b2-9118-44eb-da3b-9c7b60a8f270"
      },
      "outputs": [
        {
          "output_type": "execute_result",
          "data": {
            "text/plain": [
              "0.5612395474667978"
            ]
          },
          "metadata": {},
          "execution_count": 206
        }
      ],
      "source": [
        "#naive Classifier\n",
        "from pyspark.ml.classification import NaiveBayes\n",
        "from pyspark.ml.evaluation import MulticlassClassificationEvaluator\n",
        "nb = NaiveBayes(featuresCol=\"features\", labelCol=\"LabelIndex\", predictionCol=\"prediction\", smoothing=1.0)\n",
        "model = nb.fit(train_df)\n",
        "pred = model.transform(valid_df)\n",
        "evaluator.evaluate(pred)"
      ]
    },
    {
      "cell_type": "markdown",
      "metadata": {
        "id": "DT1ys-lN_rSa"
      },
      "source": [
        "## **Test Data Prepare**"
      ]
    },
    {
      "cell_type": "code",
      "execution_count": null,
      "metadata": {
        "id": "i8buY86du-eQ"
      },
      "outputs": [],
      "source": [
        "df2 = spark.read.csv('/content/test.csv',\n",
        "                     header=True, inferSchema=True)"
      ]
    },
    {
      "cell_type": "code",
      "execution_count": null,
      "metadata": {
        "id": "3gYYlwEz4m8M",
        "colab": {
          "base_uri": "https://localhost:8080/"
        },
        "outputId": "ecc3f4d6-6ddf-4454-9bfe-4f28ec6febfa"
      },
      "outputs": [
        {
          "output_type": "stream",
          "name": "stdout",
          "text": [
            "+--------------------+-----+\n",
            "|           Statement|Label|\n",
            "+--------------------+-----+\n",
            "|Building a wall o...| TRUE|\n",
            "|Wisconsin is on p...|FALSE|\n",
            "|Says John McCain ...|FALSE|\n",
            "|Suzanne Bonamici ...| TRUE|\n",
            "+--------------------+-----+\n",
            "only showing top 4 rows\n",
            "\n"
          ]
        }
      ],
      "source": [
        "df2.show(4)"
      ]
    },
    {
      "cell_type": "code",
      "execution_count": null,
      "metadata": {
        "id": "3F8ZD5jr_wcL",
        "colab": {
          "base_uri": "https://localhost:8080/"
        },
        "outputId": "9f88a93d-3638-426b-8e92-4663e8dfa17e"
      },
      "outputs": [
        {
          "output_type": "stream",
          "name": "stdout",
          "text": [
            "+--------------------+------------+\n",
            "|               Label|count(Label)|\n",
            "+--------------------+------------+\n",
            "|               FALSE|        1158|\n",
            "| as well as the v...|           1|\n",
            "| something that I...|           1|\n",
            "| there were 16 st...|           1|\n",
            "| it only got wors...|           1|\n",
            "|  000\"\" the hardest\"|           1|\n",
            "| it's not Sen. Ob...|           1|\n",
            "|           education|           1|\n",
            "|             if ever|           1|\n",
            "|               quote|           1|\n",
            "|                null|           0|\n",
            "|        a Republican|           1|\n",
            "|                 400|           1|\n",
            "| make you pay $10...|           1|\n",
            "|                TRUE|        1363|\n",
            "| and probably for...|           1|\n",
            "| but because \"\"th...|           1|\n",
            "| because of a dec...|           1|\n",
            "|000 for AstroTurf...|           1|\n",
            "| you should just ...|           1|\n",
            "+--------------------+------------+\n",
            "only showing top 20 rows\n",
            "\n"
          ]
        }
      ],
      "source": [
        "#Same as for Train set\n",
        "df2 = df2.withColumn('Title', regexp_extract(df2['Statement'],\\\n",
        "                '([A-Za-z]+)\\.', 1))\n",
        "\n",
        "\n",
        "df2.groupBy('Label').agg(count('Label')).show()"
      ]
    },
    {
      "cell_type": "code",
      "execution_count": null,
      "metadata": {
        "id": "Kjbc1zTQA90F"
      },
      "outputs": [],
      "source": [
        "df2 = df2.drop('Title')"
      ]
    },
    {
      "cell_type": "code",
      "execution_count": null,
      "metadata": {
        "id": "zKmnPGFnABra",
        "colab": {
          "base_uri": "https://localhost:8080/"
        },
        "outputId": "4603820e-06ee-411d-fe74-283624c994ff"
      },
      "outputs": [
        {
          "output_type": "stream",
          "name": "stdout",
          "text": [
            "Statement       0\n",
            "Label           4\n"
          ]
        }
      ],
      "source": [
        "for col in df2.columns:\n",
        "    print(col.ljust(15), df2.filter(df2[col].isNull()).count())"
      ]
    },
    {
      "cell_type": "code",
      "execution_count": null,
      "metadata": {
        "id": "bfbF2RkKBECs"
      },
      "outputs": [],
      "source": [
        "df2 = df2.fillna({'Label':'FALSE'})"
      ]
    },
    {
      "cell_type": "code",
      "execution_count": null,
      "metadata": {
        "id": "18pBaKX263R6",
        "colab": {
          "base_uri": "https://localhost:8080/"
        },
        "outputId": "95b8cc37-7cc8-4213-b681-5289e596d96c"
      },
      "outputs": [
        {
          "output_type": "stream",
          "name": "stdout",
          "text": [
            "Statement       0\n",
            "Label           0\n"
          ]
        }
      ],
      "source": [
        "for col in df2.columns:\n",
        "    print(col.ljust(15), df2.filter(df2[col].isNull()).count())"
      ]
    },
    {
      "cell_type": "code",
      "execution_count": null,
      "metadata": {
        "id": "PwXSS32JB31y",
        "colab": {
          "base_uri": "https://localhost:8080/"
        },
        "outputId": "ef490c8a-e16a-466f-8460-b1463396effd"
      },
      "outputs": [
        {
          "output_type": "stream",
          "name": "stdout",
          "text": [
            "Statement       0\n",
            "Label           0\n"
          ]
        }
      ],
      "source": [
        "for col in df1.columns:\n",
        "    print(col.ljust(15), df1.filter(df1[col].isNull()).count())"
      ]
    },
    {
      "cell_type": "markdown",
      "metadata": {
        "id": "WyetzdguAzlq"
      },
      "source": [
        "## **Introduction of Pipeline**"
      ]
    },
    {
      "cell_type": "code",
      "execution_count": null,
      "metadata": {
        "id": "L1sSxhRMAwO6",
        "colab": {
          "base_uri": "https://localhost:8080/"
        },
        "outputId": "d9c97f2c-8daf-444b-ef76-f596b0a4d370"
      },
      "outputs": [
        {
          "output_type": "execute_result",
          "data": {
            "text/plain": [
              "0.9892881487973513"
            ]
          },
          "metadata": {},
          "execution_count": 215
        }
      ],
      "source": [
        "#Creating pipelne\n",
        "pipeline_rf = Pipeline(stages=[stringIndexer_statement, stringIndexer_label, vec_asmbl, rf])\n",
        "\n",
        "#Creating Grid\n",
        "paramGrid = ParamGridBuilder().\\\n",
        "            addGrid(rf.maxDepth, [3]).\\\n",
        "            addGrid(rf.minInfoGain, [0.001]).\\\n",
        "            addGrid(rf.numTrees, [100]).\\\n",
        "            build()\n",
        "\n",
        "#Initializing crossvalidator\n",
        "selected_model = CrossValidator(estimator=pipeline_rf,\n",
        "                                estimatorParamMaps=paramGrid,\n",
        "                                evaluator=evaluator,\n",
        "                                numFolds=5)\n",
        "subset_data = df1.sample(withReplacement=False, fraction=0.1, seed=42)\n",
        "model_final = selected_model.fit(subset_data)\n",
        "# model_final = selected_model.fit(df1)\n",
        "pred_train = model_final.transform(df1)\n",
        "evaluator.evaluate(pred_train)"
      ]
    },
    {
      "cell_type": "code",
      "execution_count": null,
      "metadata": {
        "id": "xIUlnbH0LHzo",
        "colab": {
          "base_uri": "https://localhost:8080/"
        },
        "outputId": "ef1a389f-da5c-465f-d010-caecbad51e3a"
      },
      "outputs": [
        {
          "output_type": "stream",
          "name": "stdout",
          "text": [
            "+--------------------+-----+\n",
            "|           Statement|Label|\n",
            "+--------------------+-----+\n",
            "|Building a wall o...|    0|\n",
            "|Wisconsin is on p...|    1|\n",
            "|Says John McCain ...|    1|\n",
            "|Suzanne Bonamici ...|    0|\n",
            "|When asked by a r...|    1|\n",
            "+--------------------+-----+\n",
            "only showing top 5 rows\n",
            "\n"
          ]
        }
      ],
      "source": [
        "#Predicting from Test Data\n",
        "pred_test = model_final.transform(df2)\n",
        "\n",
        "#Getting only predictions\n",
        "predictions = pred_test.select('Statement', 'prediction')\n",
        "predictions = predictions.\\\n",
        "                withColumn('Label', predictions['prediction'].\\\n",
        "                cast('integer')).drop('prediction')\n",
        "predictions.show(5)"
      ]
    },
    {
      "cell_type": "code",
      "execution_count": null,
      "metadata": {
        "id": "l09kCliNF8Ah"
      },
      "outputs": [],
      "source": [
        "import string\n",
        "import pandas as pd\n",
        "from sklearn.linear_model import LogisticRegression\n",
        "from sklearn.ensemble import RandomForestClassifier\n",
        "from sklearn.naive_bayes import MultinomialNB  # Assuming you're using Multinomial Naive Bayes\n",
        "\n",
        "# Assuming you have defined your classifiers (ridge, lasso, rf, nb) elsewhere in your code\n",
        "\n",
        "def output(n):\n",
        "    if n == 0:\n",
        "        return \"The news is Real\"\n",
        "    elif n == 1:\n",
        "        return \"The news is Fake\"\n",
        "\n",
        "from pyspark.sql import Row\n",
        "\n",
        "def manual_testing(news, pipeline, rf, nb):\n",
        "    # Create a PySpark DataFrame with the user input\n",
        "    test_data = [Row(Statement=news)]\n",
        "    test_df = spark.createDataFrame(test_data)\n",
        "\n",
        "    # Transform the test data using the same pipeline\n",
        "    test_df_transformed = pipeline.transform(test_df)\n",
        "\n",
        "    # Make predictions using each model\n",
        "    pred_rf_value = rf.transform(test_df_transformed)\n",
        "    pred_nb_value = nb.transform(test_df_transformed)\n",
        "\n",
        "    # Output the predictions\n",
        "    print(\"Random Forest Prediction: {}\".format(output(pred_rf_value.select('prediction').collect()[0][0])))\n",
        "    print(\"Naive Bayes Prediction: {}\".format(output(pred_nb_value.select('prediction').collect()[0][0])))\n"
      ]
    },
    {
      "cell_type": "code",
      "source": [
        "user_input = input(\"Enter the news text: \")\n",
        "\n",
        "# Call manual_testing with the user-provided news text and fitted pipeline and models\n",
        "manual_testing(user_input, pipeline, model_ridge, model_rf, model_nb)"
      ],
      "metadata": {
        "colab": {
          "base_uri": "https://localhost:8080/",
          "height": 229
        },
        "id": "Z75ds_2DFXPp",
        "outputId": "f6c77b41-9857-4091-a602-d1cffec7e29a"
      },
      "execution_count": null,
      "outputs": [
        {
          "name": "stdout",
          "output_type": "stream",
          "text": [
            "Enter the news text: cvbnm\n"
          ]
        },
        {
          "output_type": "error",
          "ename": "NameError",
          "evalue": "ignored",
          "traceback": [
            "\u001b[0;31m---------------------------------------------------------------------------\u001b[0m",
            "\u001b[0;31mNameError\u001b[0m                                 Traceback (most recent call last)",
            "\u001b[0;32m<ipython-input-224-80788c184d01>\u001b[0m in \u001b[0;36m<cell line: 4>\u001b[0;34m()\u001b[0m\n\u001b[1;32m      2\u001b[0m \u001b[0;34m\u001b[0m\u001b[0m\n\u001b[1;32m      3\u001b[0m \u001b[0;31m# Call manual_testing with the user-provided news text and fitted pipeline and models\u001b[0m\u001b[0;34m\u001b[0m\u001b[0;34m\u001b[0m\u001b[0m\n\u001b[0;32m----> 4\u001b[0;31m \u001b[0mmanual_testing\u001b[0m\u001b[0;34m(\u001b[0m\u001b[0muser_input\u001b[0m\u001b[0;34m,\u001b[0m \u001b[0mpipeline\u001b[0m\u001b[0;34m,\u001b[0m \u001b[0mmodel_ridge\u001b[0m\u001b[0;34m,\u001b[0m \u001b[0mmodel_rf\u001b[0m\u001b[0;34m,\u001b[0m \u001b[0mmodel_nb\u001b[0m\u001b[0;34m)\u001b[0m\u001b[0;34m\u001b[0m\u001b[0;34m\u001b[0m\u001b[0m\n\u001b[0m",
            "\u001b[0;31mNameError\u001b[0m: name 'model_ridge' is not defined"
          ]
        }
      ]
    },
    {
      "cell_type": "code",
      "source": [],
      "metadata": {
        "id": "tNJ7NIH7Og5n"
      },
      "execution_count": null,
      "outputs": []
    },
    {
      "cell_type": "code",
      "source": [
        "# Example usage for taking input and performing manual_testing\n",
        "# Assuming you have initialized and trained your models (ridge, lasso, rf, nb) elsewhere in your code\n",
        "\n",
        "# Take input from the user for news text\n"
      ],
      "metadata": {
        "id": "MDtU_KfHFipn"
      },
      "execution_count": null,
      "outputs": []
    },
    {
      "cell_type": "code",
      "execution_count": null,
      "metadata": {
        "id": "IHWrBvSGHa46"
      },
      "outputs": [],
      "source": [
        "news_input = str(input()) # Replace with your actual news input\n",
        "manual_testing(news_input, pipeline)"
      ]
    },
    {
      "cell_type": "code",
      "execution_count": null,
      "metadata": {
        "id": "k-NMbi6_MFHO"
      },
      "outputs": [],
      "source": [
        "#Saving the Model\n",
        "model_final.write().save('fake_news_detection.model')"
      ]
    },
    {
      "cell_type": "code",
      "execution_count": null,
      "metadata": {
        "id": "RhWRBS-VMI02"
      },
      "outputs": [],
      "source": [
        "# Load the saved model\n",
        "from pyspark.ml.tuning import CrossValidatorModel\n",
        "\n",
        "loaded_model = CrossValidatorModel.load('fake_news_detection.model')"
      ]
    }
  ],
  "metadata": {
    "colab": {
      "provenance": []
    },
    "kernelspec": {
      "display_name": "Python 3",
      "name": "python3"
    },
    "language_info": {
      "name": "python"
    }
  },
  "nbformat": 4,
  "nbformat_minor": 0
}